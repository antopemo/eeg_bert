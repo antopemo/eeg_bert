{
 "cells": [
  {
   "cell_type": "code",
   "execution_count": 1,
   "metadata": {
    "pycharm": {
     "is_executing": false
    }
   },
   "outputs": [],
   "source": [
    "from __future__ import absolute_import, division, print_function, unicode_literals\n",
    "import os\n",
    "import mne\n",
    "from mne.io import read_raw_egi\n",
    "from mne import concatenate_raws, read_annotations\n",
    "import numpy as np\n",
    "import random\n",
    "import pandas as pd\n",
    "from matplotlib import pyplot as plt\n",
    "from sklearn.preprocessing import minmax_scale, scale\n",
    "from sklearn.model_selection import train_test_split\n",
    "from aux_func.data_reading import generate_dataset, load_and_slice\n",
    "from copy import copy"
   ]
  },
  {
   "cell_type": "code",
   "execution_count": 2,
   "metadata": {},
   "outputs": [],
   "source": [
    "# Zona de declaración de constantes\n",
    "CHANNELS = 64\n",
    "WINDOW_WIDTH = 128\n",
    "WINDOW_STEPS = 16\n",
    "batch_size = 32"
   ]
  },
  {
   "cell_type": "code",
   "execution_count": 3,
   "metadata": {
    "collapsed": false,
    "jupyter": {
     "outputs_hidden": false
    },
    "pycharm": {
     "is_executing": false,
     "name": "#%%\n"
    }
   },
   "outputs": [
    {
     "data": {
      "application/vnd.jupyter.widget-view+json": {
       "model_id": "ac0b82b4d0d745a8a67267df462ad7d1",
       "version_major": 2,
       "version_minor": 0
      },
      "text/plain": [
       "HBox(children=(IntProgress(value=0, max=3), HTML(value='')))"
      ]
     },
     "metadata": {},
     "output_type": "display_data"
    },
    {
     "data": {
      "application/vnd.jupyter.widget-view+json": {
       "model_id": "0862139a68f64e68837e282b95d3e41a",
       "version_major": 2,
       "version_minor": 0
      },
      "text/plain": [
       "HBox(children=(IntProgress(value=0, max=4), HTML(value='')))"
      ]
     },
     "metadata": {},
     "output_type": "display_data"
    },
    {
     "data": {
      "application/vnd.jupyter.widget-view+json": {
       "model_id": "e0a2d4c8620645cf9cd51cdb4087e21b",
       "version_major": 2,
       "version_minor": 0
      },
      "text/plain": [
       "HBox(children=(IntProgress(value=1, bar_style='info', max=1), HTML(value='')))"
      ]
     },
     "metadata": {},
     "output_type": "display_data"
    },
    {
     "name": "stdout",
     "output_type": "stream",
     "text": [
      "\n"
     ]
    },
    {
     "data": {
      "application/vnd.jupyter.widget-view+json": {
       "model_id": "c2cd86b5ff944347b1b7359d28ac2b08",
       "version_major": 2,
       "version_minor": 0
      },
      "text/plain": [
       "HBox(children=(IntProgress(value=1, bar_style='info', max=1), HTML(value='')))"
      ]
     },
     "metadata": {},
     "output_type": "display_data"
    },
    {
     "name": "stdout",
     "output_type": "stream",
     "text": [
      "\n"
     ]
    },
    {
     "data": {
      "application/vnd.jupyter.widget-view+json": {
       "model_id": "4706ec27faed425c9a95bf5fdbd1158e",
       "version_major": 2,
       "version_minor": 0
      },
      "text/plain": [
       "HBox(children=(IntProgress(value=1, bar_style='info', max=1), HTML(value='')))"
      ]
     },
     "metadata": {},
     "output_type": "display_data"
    },
    {
     "name": "stdout",
     "output_type": "stream",
     "text": [
      "\n",
      "\n"
     ]
    },
    {
     "data": {
      "application/vnd.jupyter.widget-view+json": {
       "model_id": "8907e91efc094c779e014a637925c3aa",
       "version_major": 2,
       "version_minor": 0
      },
      "text/plain": [
       "HBox(children=(IntProgress(value=0, max=4), HTML(value='')))"
      ]
     },
     "metadata": {},
     "output_type": "display_data"
    },
    {
     "data": {
      "application/vnd.jupyter.widget-view+json": {
       "model_id": "dae34316bbe64d6d9571f20d5430d25a",
       "version_major": 2,
       "version_minor": 0
      },
      "text/plain": [
       "HBox(children=(IntProgress(value=1, bar_style='info', max=1), HTML(value='')))"
      ]
     },
     "metadata": {},
     "output_type": "display_data"
    },
    {
     "name": "stdout",
     "output_type": "stream",
     "text": [
      "\n"
     ]
    },
    {
     "data": {
      "application/vnd.jupyter.widget-view+json": {
       "model_id": "bf579cffdc374502a8f86d4a045a6d5b",
       "version_major": 2,
       "version_minor": 0
      },
      "text/plain": [
       "HBox(children=(IntProgress(value=1, bar_style='info', max=1), HTML(value='')))"
      ]
     },
     "metadata": {},
     "output_type": "display_data"
    },
    {
     "name": "stdout",
     "output_type": "stream",
     "text": [
      "\n"
     ]
    },
    {
     "data": {
      "application/vnd.jupyter.widget-view+json": {
       "model_id": "e9da33e9ca4e470b930f03b0a1d5180c",
       "version_major": 2,
       "version_minor": 0
      },
      "text/plain": [
       "HBox(children=(IntProgress(value=1, bar_style='info', max=1), HTML(value='')))"
      ]
     },
     "metadata": {},
     "output_type": "display_data"
    },
    {
     "name": "stdout",
     "output_type": "stream",
     "text": [
      "\n",
      "\n",
      "\n"
     ]
    }
   ],
   "source": [
    "# Cargamos el dataset. Esto devuelve un diccionario que podemos emplear para seleccionar qué tipos de datos queremos usar.\n",
    "dataset = generate_dataset([[-1],[-1]])"
   ]
  },
  {
   "cell_type": "code",
   "execution_count": 4,
   "metadata": {},
   "outputs": [
    {
     "data": {
      "text/plain": [
       "'C:\\\\Users\\\\Ceiec01\\\\OneDrive - UFV\\\\datasets\\\\EEGs_Pre_Post_LD\\\\v1.0.0\\\\controles\\\\EEGs_limpieza_CSIC\\\\CO06_FTD_eeg.npy'"
      ]
     },
     "execution_count": 4,
     "metadata": {},
     "output_type": "execute_result"
    }
   ],
   "source": [
    "dataset[\"EEGs_limpieza_CSIC\"][\"FTD\"][\"control\"][0]"
   ]
  },
  {
   "cell_type": "code",
   "execution_count": 5,
   "metadata": {},
   "outputs": [
    {
     "data": {
      "text/plain": [
       "32"
      ]
     },
     "execution_count": 5,
     "metadata": {},
     "output_type": "execute_result"
    }
   ],
   "source": [
    "len(dataset[\"EEGs_limpieza_CSIC\"][\"FTD\"][\"control\"])"
   ]
  },
  {
   "cell_type": "code",
   "execution_count": 6,
   "metadata": {},
   "outputs": [],
   "source": [
    "pat_reposo = dataset[\"EEGs_brutos\"][\"Resting\"][\"pat_pre\"]\n",
    "controles = dataset[\"EEGs_brutos\"][\"Resting\"][\"control\"]"
   ]
  },
  {
   "cell_type": "code",
   "execution_count": 7,
   "metadata": {},
   "outputs": [],
   "source": [
    "X = pat_reposo + controles\n",
    "Y = [1]*len(pat_reposo) + [0]*len(controles)"
   ]
  },
  {
   "cell_type": "code",
   "execution_count": 8,
   "metadata": {},
   "outputs": [],
   "source": [
    "# info = mne.create_info(ch_names=64, sfreq=100)\n",
    "# raw = mne.io.RawArray(X[200],info)\n",
    "# raw.plot(title='Data from arrays',\n",
    "#          show=True, block=True)"
   ]
  },
  {
   "cell_type": "code",
   "execution_count": 66,
   "metadata": {},
   "outputs": [],
   "source": [
    "import tensorflow as tf"
   ]
  },
  {
   "cell_type": "code",
   "execution_count": 67,
   "metadata": {},
   "outputs": [
    {
     "name": "stdout",
     "output_type": "stream",
     "text": [
      "The tensorboard extension is already loaded. To reload it, use:\n",
      "  %reload_ext tensorboard\n"
     ]
    }
   ],
   "source": [
    "# Load the TensorBoard notebook extension\n",
    "%load_ext tensorboard"
   ]
  },
  {
   "cell_type": "code",
   "execution_count": 68,
   "metadata": {},
   "outputs": [],
   "source": [
    "\n",
    "X_train, X_test, Y_train, Y_test = train_test_split(X, Y, test_size=0.33, random_state=42)\n",
    "ds = tf.data.Dataset.from_generator(\n",
    "                                load_and_slice, \n",
    "                                (tf.int64, tf.int64), \n",
    "                                (tf.TensorShape([CHANNELS,WINDOW_WIDTH,1]), tf.TensorShape([])), \n",
    "                                args = (X,Y,WINDOW_STEPS,WINDOW_WIDTH, [CHANNELS,WINDOW_WIDTH,1]))\n",
    "\n",
    "ds = ds.batch(batch_size)\n",
    "\n",
    "\n",
    "ds_train = tf.data.Dataset.from_generator(\n",
    "                                        load_and_slice, \n",
    "                                        (tf.int64, tf.int64), \n",
    "                                        (tf.TensorShape([CHANNELS,WINDOW_WIDTH,1]), tf.TensorShape([])), \n",
    "                                        args = (X_train,Y_train,WINDOW_STEPS,WINDOW_WIDTH, [CHANNELS,WINDOW_WIDTH,1]))\n",
    "ds_train = ds_train.batch(batch_size)\n",
    "\n",
    "ds_test = tf.data.Dataset.from_generator(\n",
    "                                        load_and_slice,\n",
    "                                        (tf.int64, tf.int64),\n",
    "                                        (tf.TensorShape([CHANNELS,WINDOW_WIDTH,1]), tf.TensorShape([])),\n",
    "                                        args = (X_test,Y_test,WINDOW_STEPS,WINDOW_WIDTH, [CHANNELS,WINDOW_WIDTH,1]))\n",
    "ds_test = ds_test.batch(batch_size)\n"
   ]
  },
  {
   "cell_type": "code",
   "execution_count": 73,
   "metadata": {},
   "outputs": [],
   "source": [
    "from tensorflow.keras.models import Sequential\n",
    "from tensorflow.keras.layers import Dense, Conv2D, Flatten, Dropout, MaxPooling2D, BatchNormalization\n",
    "from tensorflow.keras.callbacks import EarlyStopping, ModelCheckpoint, Callback, TensorBoard\n",
    "\n",
    "model = Sequential([\n",
    "    Conv2D(16, 3, padding='same', activation='relu', input_shape=(CHANNELS, WINDOW_WIDTH,1)),\n",
    "    MaxPooling2D(),\n",
    "    BatchNormalization(),\n",
    "    Dropout(0.2),\n",
    "    Conv2D(32, 3, padding='same', activation='relu'),\n",
    "    MaxPooling2D(),\n",
    "    BatchNormalization(),\n",
    "    Dropout(0.2),\n",
    "    Conv2D(64, 3, padding='same', activation='relu'),\n",
    "    MaxPooling2D(),\n",
    "    BatchNormalization(),\n",
    "    Dropout(0.2),\n",
    "    Conv2D(128, 3, padding='same', activation='relu'),\n",
    "    MaxPooling2D(),\n",
    "    BatchNormalization(),\n",
    "    Dropout(0.2),\n",
    "    Flatten(),\n",
    "    Dense(512, activation='relu'),\n",
    "    Dense(1, activation='sigmoid')\n",
    "])\n",
    "\n",
    "model.compile(optimizer='adam',\n",
    "              loss='binary_crossentropy',\n",
    "              metrics=['accuracy'])\n"
   ]
  },
  {
   "cell_type": "code",
   "execution_count": 74,
   "metadata": {},
   "outputs": [],
   "source": [
    "# Creamos la clase que recibe un Callback, nos permite parar el entrenamiento cuando una medida baje de un valor concreto\n",
    "class EarlyStoppingByLoss(Callback):\n",
    "    # Llamada de la inicialización de la función (Verbose está, pero deshabilitado)\n",
    "    def __init__(self, monitor='loss', value=0.2, verbose=1):\n",
    "        # Llamamos al padre para sobrecargar métodos\n",
    "        super(Callback, self).__init__()\n",
    "        #Establecemos los valores para que sean los parámetros\n",
    "        self.monitor = monitor\n",
    "        self.value = value\n",
    "        self.verbose = verbose\n",
    "    # Esta función se ejecuta cuando termina una época\n",
    "    def on_epoch_end(self, epoch, logs={}):\n",
    "        # Miramos en el log cuanto ha sido el valor que estamos monitorizando\n",
    "        current = logs.get(self.monitor)\n",
    "        # Si es menor\n",
    "        if current <= self.value:\n",
    "            # que pare el entrenamiento y nos de el feedback\n",
    "            self.model.stop_training = True\n",
    "            print(\"La red ha finalizado el entrenamiento debido al criterio de parada establecido\")\n",
    "            \n"
   ]
  },
  {
   "cell_type": "code",
   "execution_count": 81,
   "metadata": {},
   "outputs": [],
   "source": [
    "from tensorflow.keras.callbacks import LambdaCallback\n",
    "from datetime import datetime\n",
    "logdir = \"logs\\\\CNN\\\\\" + datetime.now().strftime(\"%Y%m%d-%H%M%S\")\n",
    "tensorboard_callback = TensorBoard(log_dir=logdir, histogram_freq=1)\n",
    "modelcallback = ModelCheckpoint('checkpoints/weights.CNN.{epoch:02d}-{val_loss:.2f}.hdf5')\n",
    "valloss = EarlyStoppingByLoss(monitor='loss', value = 0.02, verbose=1)\n",
    "\n",
    "# callbacks = callbacks=[LambdaCallback(on_batch_end=lambda batch,logs:print(logs))]\n",
    "callbacks = [tensorboard_callback,\n",
    "            modelcallback]\n",
    "\n",
    "history = model.fit(\n",
    "    ds_train,\n",
    "    verbose=0,\n",
    "    epochs=100,\n",
    "    validation_data=ds_test,\n",
    "    callbacks=callbacks,\n",
    "    steps_per_epoch=len(X)/batch_size,\n",
    "    validation_steps=len(X)/batch_size,\n",
    "    shuffle = True #Debido a que los datos están ordenados, si no se hace shuffle no aprende la red\n",
    ")"
   ]
  },
  {
   "cell_type": "code",
   "execution_count": 83,
   "metadata": {},
   "outputs": [],
   "source": [
    "metrics = model.evaluate(\n",
    "    ds_test,\n",
    "    verbose = 0\n",
    ")"
   ]
  },
  {
   "cell_type": "code",
   "execution_count": 84,
   "metadata": {},
   "outputs": [
    {
     "data": {
      "text/plain": [
       "[0.0005323748706295035, 1.0]"
      ]
     },
     "execution_count": 84,
     "metadata": {},
     "output_type": "execute_result"
    }
   ],
   "source": [
    "metrics"
   ]
  },
  {
   "cell_type": "raw",
   "metadata": {},
   "source": []
  },
  {
   "cell_type": "code",
   "execution_count": null,
   "metadata": {},
   "outputs": [],
   "source": []
  }
 ],
 "metadata": {
  "kernelspec": {
   "display_name": "PyCharm (PFG)",
   "language": "python",
   "name": "pycharm-7521ee9a"
  },
  "language_info": {
   "codemirror_mode": {
    "name": "ipython",
    "version": 3
   },
   "file_extension": ".py",
   "mimetype": "text/x-python",
   "name": "python",
   "nbconvert_exporter": "python",
   "pygments_lexer": "ipython3",
   "version": "3.7.4"
  },
  "pycharm": {
   "stem_cell": {
    "cell_type": "raw",
    "metadata": {
     "collapsed": false
    },
    "source": []
   }
  }
 },
 "nbformat": 4,
 "nbformat_minor": 4
}
